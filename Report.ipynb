{
  "nbformat": 4,
  "nbformat_minor": 0,
  "metadata": {
    "colab": {
      "provenance": [],
      "authorship_tag": "ABX9TyN2tImns7PY76zrifH5v0sZ",
      "include_colab_link": true
    },
    "kernelspec": {
      "name": "python3",
      "display_name": "Python 3"
    },
    "language_info": {
      "name": "python"
    }
  },
  "cells": [
    {
      "cell_type": "markdown",
      "metadata": {
        "id": "view-in-github",
        "colab_type": "text"
      },
      "source": [
        "<a href=\"https://colab.research.google.com/github/skn-07/IntroToCyber/blob/main/Report.ipynb\" target=\"_parent\"><img src=\"https://colab.research.google.com/assets/colab-badge.svg\" alt=\"Open In Colab\"/></a>"
      ]
    },
    {
      "cell_type": "markdown",
      "source": [
        "\n",
        "\n",
        "```\n",
        "# This is formatted as code\n",
        "```\n",
        "\n",
        "## Introduction\n",
        "In this digital age, securing data and communication has become a necessity. Approximately 328.77 million terabytes of data are created globally each day, amounting to roughly 120 zettabytes annually. This contains a lot of sensitive and confidential data that could be misused if sent as normal text. Encryption is one of the most useful, first-level layers to protecting your data. Encryption pays a crucial role in acheiving data security by converting plain text into cipher text that no one else but the people with a key can read. There are mainly two types of encryption algorithms: Symmetric key, and Asymmetric key.\n",
        "\n",
        "Symmetric key encryption algorithms makes use of the same key for both encryption and decryption, making it faster and easier on computation. On the other hand, asymmetric key encryption algorithms make use of different but mathematically linked keys - Public and Private key - for encryption and decryption respectively providing better security, but at the cost of increased computational complexity.\n",
        "\n",
        "In this report, we will look into two of the popular symmetric key encryption algorithms, **Advanced Encryption Standard (AES) and Data Encryption Standard (DES)**. Followed by that, we will also look into two of the most common asymmetric key encryption algorithms, **Rivest-Shamir-Adleman (RSA) and Elliptic Curve Cryptography (ECC)**. Additionaly, we will explore hashing and one of the famous cryptographic hashing function **Secure Hash Algorithm - 256 (SHA-256)**."
      ],
      "metadata": {
        "id": "BOfX3jqlTGv2"
      }
    },
    {
      "cell_type": "markdown",
      "source": [
        "## Symmetric Key Encryption\n",
        "\n",
        "### What is Symmetric key encryption?\n",
        "Symmetric key encryption just like the name suggests, uses the same single key for both encryption and decryption of data. This means that whoever is encrypting the data must share the key with all authorized parties so that they can decrypt it. Symmetric key encryption is typically used for encrypting bulk data, as it is usually faster and easier to implement. So, symmetric key encryption is used when speed is the priority over increased security.\n",
        "\n",
        "Now we will dive deeper into two of the popular symmetric key encryption algorithms.\n",
        "\n",
        "### 1. Advanced Encryption Standard (AES)\n",
        "\n",
        "#### Definition:\n",
        "The Advanced Encryption Standard (AES) Encryption (also known as Rijndael algorithm) is a symmetric block cipher algorithm with a block size of 128-bits.\n",
        "It is widely used to secure sensitive information and is considered to be one of the most secure encryption algorithms out there.\n",
        "\n",
        "#### How does AES work?\n",
        "\n",
        "##### Steps for Encryption\n",
        "\n",
        "1.   **Dividing data into blocks:** The input data is divided into blocks of 16-bytes (128 bits).\n",
        "2.   **Key expansion:** The symmetric key is expanded to multiple keys which are used in each round of encryption.\n",
        "3.   **Adding round key:** The initial data block is XORed (Bitwise Exclusice OR) with the first round key.\n",
        "4.   **Substitution:** Each byte in the block is substituted with a different byte using a pre-defind S-box.\n",
        "5.   **Shift rows:** In order to further mix the data, the rows of the block are circularly shifted by different offsets.\n",
        "6.   **Mix columns:** To enhance diffusion, each column of the block is transformed using a specific mix column operation.\n",
        "7.   **Adding round key:** A new round key is XORed with the block after each round of substituitions, shifts, and mix columns.\n",
        "8.   **Rounds:** Steps 4-7 are repeated for a set number of rounds; 10, 12, or 14 depending on the key length.\n",
        "\n",
        "##### Steps for Decryption\n",
        "\n",
        "Decrypiton is essentially the reverse process of encryption, using the same key but with different round keys in the inverse order. Each step is reversed, thus undoing all the substituitions, shifts, and mix columns to retrieve the original plain text.\n",
        "\n",
        "### Implementation of AES using Python"
      ],
      "metadata": {
        "id": "a-Dzy59kxcMn"
      }
    },
    {
      "cell_type": "code",
      "source": [
        "from Crypto.Cipher import AES\n",
        "from Crypto.Random import get_random_bytes\n",
        "\n",
        "key = get_random_bytes(16)\n",
        "plainText = b\"AES encryption algorithm!\"\n",
        "cipher = AES.new(key, AES.MODE_EAX)\n",
        "ciphertext, tag = cipher.encrypt_and_digest(plainText)\n",
        "\n",
        "print(\"Cipher Text:\", ciphertext)\n",
        "print(\"Tag:\", tag)\n",
        "\n",
        "cipher = AES.new(key, AES.MODE_EAX, cipher.nonce)\n",
        "decrypted_data = cipher.decrypt_and_verify(ciphertext, tag)\n",
        "\n",
        "print(\"Decrypted Data:\", decrypted_data.decode())"
      ],
      "metadata": {
        "colab": {
          "base_uri": "https://localhost:8080/"
        },
        "id": "KlZQkKgTiozx",
        "outputId": "490ade22-3291-4846-d283-3a2cbee70851"
      },
      "execution_count": null,
      "outputs": [
        {
          "output_type": "stream",
          "name": "stdout",
          "text": [
            "Cipher Text: b\"^l9\\x88n\\x1aEm\\xe6'h\\x99\\xf5M\\xf9\\xab-\\\\|\\xa9W\\xbc\\x17O\\\\\"\n",
            "Tag: b'\\xd0o\\x04\\x13\\x89\\n\\xeb\\xfd/X\\x9f\\xadd\\x84e='\n",
            "Decrypted Data: AES encryption algorithm!\n"
          ]
        }
      ]
    },
    {
      "cell_type": "markdown",
      "source": [
        "### Data Encryption Standard (DES)\n",
        "\n",
        "#### Defintion:\n",
        "The Data Encryption Standard (DES) algorithm is a symmetric-key block cipher created in the early 1970s by IBM. DES was based on an earilier design by Horst Feistel. It was later adopted by the National Institute of Standards and Technology (NIST). The algorithm works on a fixed-size (64-bits) blocks of data using a 56-bit key.\n",
        "\n",
        "#### How does DES work?\n",
        "\n",
        "##### Steps for Encryption\n",
        "\n",
        "1.   **Initial Permutation (IP):** The 64-bit plain text block undergoes an initial permutation. This rearranges the bits to prepare for further processing.\n",
        "2.   **Splitting into Left and Right halves:** The permuted block is divided into two halves of 32-bits, left half (LH) and right half (RH).\n",
        "3.   **Rounds:** There are 16 rounds of processing in total. Each round involves:\n",
        "      *   **Expansion:** The right half (RH) is expanded from 32-bits to 48-bits using expansion permutation table.\n",
        "      *   **Mixing with the subkey:** The expanded right half is XORed with a subkey derived from the main key.\n",
        "      *   **Substituition (S-Boxes):** The resulting 48-bits are further divided into eight 6-bit chunks, each of which is processed using a substituition box (S-Box). The S-Box replace the 6-bit inputs with a different 4-bit output. This provides confusion.\n",
        "      *   **Permutation:** The 32-bit output from the S-Box undergoes another permutation.\n",
        "      *   **Combining Halves:** The permuted output is XORed with the left half from the previous round.\n",
        "      *   **Swapping Halves:** The left and right halves swap their positions for the next round.\n",
        "4.   **Final Permutation:** A final permutation (Inverse of IP) is applied to the resulting block after all 16 rounds, producing the 64-bit ciphertext.\n",
        "\n",
        "##### Steps for Decryption\n",
        "\n",
        "Steps for decryption is similar to encryption but uses the subkeys in the reverse order. This reverses the substituitions and transpositions, finally recovering the original plain text.\n",
        "\n",
        "### Implementation of DES using Python"
      ],
      "metadata": {
        "id": "2EydRpHCoIET"
      }
    },
    {
      "cell_type": "code",
      "source": [
        "from Crypto.Cipher import DES\n",
        "from Crypto.Util.Padding import pad, unpad\n",
        "\n",
        "key = b\"secret_k\"\n",
        "data = b\"Encrypting this text using DES algorithm.\"\n",
        "cipher = DES.new(key, DES.MODE_ECB)\n",
        "padded_data = pad(data, DES.block_size)\n",
        "ciphertext = cipher.encrypt(padded_data)\n",
        "\n",
        "print(\"Cipher Text:\", ciphertext)\n",
        "\n",
        "cipher = DES.new(key, DES.MODE_ECB)\n",
        "decrypted_data = cipher.decrypt(ciphertext)\n",
        "unpadded_data = unpad(decrypted_data, DES.block_size)\n",
        "\n",
        "print(\"Decrypted Data:\", unpadded_data.decode())"
      ],
      "metadata": {
        "colab": {
          "base_uri": "https://localhost:8080/"
        },
        "id": "H2yMgzjZ7Bv9",
        "outputId": "479a6ac1-9cf1-4f0f-f04f-a35412aae7aa"
      },
      "execution_count": null,
      "outputs": [
        {
          "output_type": "stream",
          "name": "stdout",
          "text": [
            "Cipher Text: b'\\xb8\\x10\\xa1?\\xf1xj\\x012\\x05\\xf4\\xb4\\xf8\\xd8\\xfeZ\\xb9\\x96\\x9d$\\xa3\\xc2a\\xe2\\xcc\\xef\\x87\\xc9y\\xc5D\\x14\\xd3\\\\ t\\xbc\\xee\\xbfBi\\x81\\xb7\\xa7\\x08(\\x94\\xea'\n",
            "Decrypted Data: Encrypting this text using DES algorithm.\n"
          ]
        }
      ]
    },
    {
      "cell_type": "markdown",
      "source": [
        "## Asymmetric Key Encryption\n",
        "\n",
        "### What is Asymmetric key encryption?\n",
        "\n",
        "Asymmetric key encryption, on the other hand, uses a pair of keys - a public key and a private key. The public key is used for encrypting data, while the private key is used for decrypting it. This means that anyone can send encrypted data using the recipient's public key, but only the recipient, who possesses the corresponding private key, can decrypt it. Asymmetric key encryption is often used for securely exchanging keys used in symmetric key encryption, as well as for digital signatures. While asymmetric key encryption is more secure than symmetric key encryption, it is also slower and more computationally intensive, making it less suitable for encrypting large amounts of data.\n",
        "\n",
        "Let us now take a look into two of the popular asymmetric key encryption algorithms:\n",
        "\n",
        "### 1. Rivest-Shamir-Adleman (RSA)\n",
        "\n",
        "#### Definition:\n",
        "\n",
        "Rivest-Shamir-Adleman (RSA) is a public-key cryptographic algorithm used for secure data transmission. It is based on the principle that it is easy to multiply large numbers, but finding the factors of large numbers is very difficult. It is widely used for secure communication, digital signatures, and encryption of sensitive data.\n",
        "\n",
        "#### How does RSA work?\n",
        "\n",
        "##### Key Generation\n",
        "\n",
        "1.   Two large numbers (say p and q) are chosen and kept secret.\n",
        "2.   Their product n = p * q is calculated. This n is made public as part of the public key.\n",
        "3.   A public exponent (e) relatively prime to (p - 1)(q - 1) is chosen and made public along with n. This forms the public key.\n",
        "4.   Using the public information (n, e), a private exponent d is calculated using a mathematical function based on p, q, and e. This remains private.\n",
        "\n",
        "##### Steps for Encryption\n",
        "\n",
        "1.  **Plain Text to Number:** The plain text to be encrypted is converted to a numerical format which is compatible with the key size.\n",
        "2.  **Encryption Function:** Each block of the numerical message (m) is raised to the power of the public exponent (e) modulo n: c = m^e mod n\n",
        "\n",
        "This cipher text (c) is sent to the receiver.\n",
        "\n",
        "##### Steps for Decryption\n",
        "\n",
        "1.  **Decryption Function:** Only the holder of the private key (d) can decrypt the ciphertext. They use the private exponent (d) with the received cipheretext (c).\n",
        "2.  **Number to Plain Text:** The numerical message is then converted back into the original plain text.\n",
        "\n",
        "The security of RSA lies on the difficulty of factoring two large prime numbers used to generate the key.\n",
        "\n",
        "### Implementation of RSA using Python"
      ],
      "metadata": {
        "id": "ZLWs_JN68IZm"
      }
    },
    {
      "cell_type": "code",
      "source": [
        "from Crypto.PublicKey import RSA\n",
        "from Crypto.Cipher import PKCS1_OAEP\n",
        "from Crypto.Random import get_random_bytes\n",
        "\n",
        "key = RSA.generate(2048)\n",
        "private_key = key.export_key()\n",
        "public_key = key.publickey().export_key()\n",
        "\n",
        "cipher = PKCS1_OAEP.new(RSA.import_key(public_key))\n",
        "data = b\"Data encryption using RSA.\"\n",
        "encrypted_data = cipher.encrypt(data)\n",
        "\n",
        "print(\"Encrypted Data:\", encrypted_data)\n",
        "\n",
        "cipher = PKCS1_OAEP.new(RSA.import_key(private_key))\n",
        "decrypted_data = cipher.decrypt(encrypted_data)\n",
        "\n",
        "print(\"Decrypted Data:\", decrypted_data.decode())\n"
      ],
      "metadata": {
        "colab": {
          "base_uri": "https://localhost:8080/"
        },
        "id": "N1fw7hRPBtmt",
        "outputId": "a6b81044-9291-4e32-ed69-27addb5f2f07"
      },
      "execution_count": null,
      "outputs": [
        {
          "output_type": "stream",
          "name": "stdout",
          "text": [
            "Encrypted Data: b')\\xf9\\xc8\\xc2\\x8a\\x04\\xb6A^\\xc6\\xc7KZ\\xae\\xd81\\xe9v\\x95L\\xd3Y\\xf5\\xa3\\x10\\x91\\xf7\\xc6Z!/uQK\\x81\\xe3\\xa8t\\xd9O\\x86#_\\xf7\\x0c\\xb0\\xc6?\\xa1\\x88\\xc6\\xd8,\\xe3Hi\\xc2\\xe3%\\x17>\\x94\\xb5.\\x1f\\xd45~\\xa1\\xa3\\x92\\xb2\\xca6\\xb9\\xe6\\x83;\\xc9\\x97\\x8f\\xf4OM\\xf6\\x91B\\xd9[\\x18\\x00\\xf7\\xfd\\xdb\\xd2\\xaa\\x85l(\\xf8\\xd0\\x16\\x87S\\x13i\\xb1\\xf9\\xc7\\x8f\\x8eV\\x9c\\xd4\\xd6\\x9a\\xae8\\x1b\\x10\\xed\\x06-@\\x0b D1\\x9591\\x9ej\\xe1\\xe5\\x91\\x13S\\x10^bq.\\xdb\\xac\\x8b;\\x08.\\xdf\\x1e\\xa8\\x9f\\xb37\\xd9\\xee\\x00\\x13\\xe7:\\x1b\\xc8\\x92\\x9b\\xdaVo\\x7fp\\x8ei9\\xee\\xe6\\x88\\xdc\\xf6\\xed\\x82U\\xae)\\xbb\\xd0Cj\\xa9\\xfeVw\\xc1\\xa9\\\\\\xdbFAB\\xb1\\xfd\\x93\\x85Vb\\x16Mw\\xbfpm\\xd5\\\\\\x91\\xe7pl\\xbe.\\x07A)\\x14\\xe9\\xa3\\xe7/S\\x03<\\x03\\x13gY\\xd9j\\xbd\\x88\\xff\\xe4\\x82\\xd5\\x81\\xa8(m\\xa21\\x0f\\x12\\x18\\x9a*\\x80f\\xd9`'\n",
            "Decrypted Data: Data encryption using RSA.\n"
          ]
        }
      ]
    },
    {
      "cell_type": "markdown",
      "source": [
        "### Elliptic Curve Cryptography (ECC)\n",
        "\n",
        "#### Definition:\n",
        "\n",
        "Elliptic Curve Cryptography (ECC) is a public-key cryptography that is based on the algebraic structure of elliptic curves over finite fields to provide strong security with relatively small key sizes. ECC is widely used where efficient computing and small key sizes are important, such as in mobile devices and IoT devices.\n",
        "\n",
        "#### How does ECC work?\n",
        "\n",
        "##### Key Generation\n",
        "\n",
        "1.  Choose an elliptic curve E defined over a finite field Fq, where q is a prime number.\n",
        "2.  Select a point G on the curve E. This point is called the base point or generator point.\n",
        "3.  Choose a private key d from the interval [1, n-1], where n is the order of the base point G.\n",
        "4.  Compute the public key Q = d * G, where * is the point multiplication operation.\n",
        "\n",
        "##### Steps for Encryption\n",
        "\n",
        "1.  **Plaintext Conversion:** The message to be encrypted is converted to a point on the chosen elliptic curve.\n",
        "2.  **Key Exchange:** The sender uses the recipient's public key (Q) and their private key (d) to generate a shared secret point on the curve. This calculation involves multiplying the recipient's public key with a random integer and adding the result to the point representing the message.\n",
        "3.  **Ciphertext Generation:** The shared secret point is combined with the message point to create the ciphertext. This ciphertext can only be decrypted by the recipient with their private key.\n",
        "\n",
        "##### Steps for Decryption\n",
        "\n",
        "1. **Shared Secret Calculation:** In order to reverse the point multiplication performed during encryption, the recipient uses their private key (d). This retrieves the shared secret point.\n",
        "2. **Message Recovery:** Subtracting the shared secret point from the received ciphertext reveals the original message point.\n",
        "3. **Plaintext Conversion:** The message point is converted back from its elliptic curve representation to the original plaintext message.\n",
        "\n",
        "The security of ECC is based on the difficulty of the Elliptic Curve Discrete Logarithm Problem (ECDLP), which is the problem of finding d given Q and G.\n",
        "\n",
        "### Implementation of ECC using Python"
      ],
      "metadata": {
        "id": "DvV8jqjRCWjd"
      }
    },
    {
      "cell_type": "code",
      "source": [
        "from cryptography.hazmat.primitives import hashes\n",
        "from cryptography.hazmat.primitives.asymmetric import ec\n",
        "from cryptography.hazmat.primitives.kdf.hkdf import HKDF\n",
        "from cryptography.hazmat.backends import default_backend\n",
        "from cryptography.hazmat.primitives import serialization\n",
        "from cryptography.hazmat.primitives.kdf.scrypt import Scrypt\n",
        "from cryptography.hazmat.primitives import hashes, hmac\n",
        "from cryptography.hazmat.primitives.kdf.pbkdf2 import PBKDF2HMAC\n",
        "from cryptography.hazmat.primitives.kdf.hkdf import HKDFExpand\n",
        "import base64\n",
        "\n",
        "private_key = ec.generate_private_key(ec.SECP384R1(), default_backend())\n",
        "public_key = private_key.public_key()\n",
        "\n",
        "public_key_bytes = public_key.public_bytes(\n",
        "    encoding=serialization.Encoding.PEM,\n",
        "    format=serialization.PublicFormat.SubjectPublicKeyInfo\n",
        ")\n",
        "\n",
        "other_public_key = serialization.load_pem_public_key(public_key_bytes, backend=default_backend())\n",
        "\n",
        "shared_secret = private_key.exchange(ec.ECDH(), other_public_key)\n",
        "\n",
        "hkdf = HKDFExpand(\n",
        "    algorithm=hashes.SHA256(),\n",
        "    length=32,\n",
        "    info=None,\n",
        "    backend=default_backend()\n",
        ")\n",
        "symmetric_key = hkdf.derive(shared_secret)\n",
        "\n",
        "from cryptography.fernet import Fernet\n",
        "\n",
        "fernet = Fernet(base64.urlsafe_b64encode(symmetric_key))\n",
        "\n",
        "message = b\"Data encryption using ECC.\"\n",
        "encrypted_message = fernet.encrypt(message)\n",
        "print(f\"Encrypted message: {encrypted_message}\")\n",
        "\n",
        "decrypted_message = fernet.decrypt(encrypted_message)\n",
        "print(f\"Decrypted message: {decrypted_message.decode()}\")\n"
      ],
      "metadata": {
        "colab": {
          "base_uri": "https://localhost:8080/"
        },
        "id": "dsL5wW0CNuw8",
        "outputId": "d24440d3-e4a0-4a17-96ce-178b38b45582"
      },
      "execution_count": 8,
      "outputs": [
        {
          "output_type": "stream",
          "name": "stdout",
          "text": [
            "Encrypted message: b'gAAAAABmMn7r1nIQ948QIF2l8cH9z-fmwlZKciYzW89QBji6T1K2JV0z7c6FkF9ONmgyAbGrZIlMVDISTbvY6uaaPmHIhDOZvKUP8wttH66zMytJQ3M4Z-Y='\n",
            "Decrypted message: Data encryption using ECC.\n"
          ]
        }
      ]
    },
    {
      "cell_type": "markdown",
      "source": [
        "## Hash Functions\n",
        "\n",
        "A hash function is a computational method that can map an indeterminate size of data into a fixed size of data. They take input data and produce a fixed-length output, typically called a hash or a digest. The hash value is unique to the input data, and any slight change in the input data (even if a bit is changed) changes the hash value/digest. This property makes hash functions useful for various applications, including data integrity verification, password storage, and digital signatures.\n",
        "\n",
        "### Definition:\n",
        "\n",
        "A hash function is a function that takes a set of inputs of any arbitrary size and fits them into a table or other data structure that contains fixed-size elements.\n",
        "\n",
        "Some of the common hash functions are MD5 (Message Digest Algorithm 5), SHA-1 (Secure Hash Algorithm 1), SHA-256 (Secure Hash Algorithm 256), SHA-3 (Secure Hash Algorithm 3), and BLAKE2. We will delve a little deeper into SHA-256.\n",
        "\n",
        "### Secure Hash Algorithm 256 (SHA-256)\n",
        "\n",
        "#### Definition:\n",
        "\n",
        "Secure Hash Algorithm 256-bit (SHA-256) is one of the cryptographic hash functions in the SHA-2 family standardized by NIST. It generates a fixed-size 256-bit (32-byte) hash value from an input data of arbitrary size. SHA-256 is widely used in various security applications and protocols, including digital signatures, message authentication codes (MACs), and blockchain technology.\n",
        "\n",
        "#### How does SHA-256 work?\n",
        "\n",
        "1.  **Message Padding:** The input message is padded, if needed, to ensure that the length is a multiple of 512-bits (64 bytes).\n",
        "2.  **Initital Hash Values:** SHA-256 uses eight initial hash values (often called as 'constants'). Constants are 32-bit words derived from the first 32 bits of the fractional parts of the square roots of the first 8 prime numbers.\n",
        "3.  **Message Processing:** The padded message is processed in blocks of 512 bits each. Each block is further divided into 16 32-bit words, forming a 64-entry message schedule array.\n",
        "4.  **Hash Computation:** SHA-256 operates on a 64-entry message schedule array, using a series of bitwise operations (AND, OR, XOR, NOT), addition modulo 2^32, and cyclic rotations to update the hash value through a total of 64 rounds.\n",
        "5.  **Final Hash Value:** After processing all blocks, the final hash value is the concatenation of the eight 32-bit hash values obtained from the final rounds of computation.\n",
        "\n",
        "The resulting hash value is 256 bits long, providing a unique representation of the input data.\n",
        "\n",
        "### Implementation of SHA-256 using Python"
      ],
      "metadata": {
        "id": "cZPk257sQJEm"
      }
    },
    {
      "cell_type": "code",
      "source": [
        "import os\n",
        "from hashlib import sha256\n",
        "\n",
        "def calculateHash(value):\n",
        "    hashValue = sha256(value.encode('utf-8')).hexdigest()\n",
        "\n",
        "    return hashValue\n",
        "\n",
        "if __name__ == \"__main__\":\n",
        "    os.system('cls')\n",
        "    print(\"SHA256 Hash Calculator\")\n",
        "    print(\"----------------------\")\n",
        "    text = input(\"Enter the string to find the hash value for:- \")\n",
        "    print(f\"The sha256 hash value of the given string is {calculateHash(text)}.\")"
      ],
      "metadata": {
        "colab": {
          "base_uri": "https://localhost:8080/"
        },
        "id": "-87d9SwvVWU3",
        "outputId": "82c5dc5f-2579-4338-a416-a300bbdfadcd"
      },
      "execution_count": 9,
      "outputs": [
        {
          "output_type": "stream",
          "name": "stdout",
          "text": [
            "SHA256 Hash Calculator\n",
            "----------------------\n",
            "Enter the string to find the hash value for:- Hashing using SHA-256.\n",
            "The sha256 hash value of the given string is afe42ebb31b3d036781ac854b9a584ff175cdd64cc5e13752b6ae3adee09a35d.\n"
          ]
        }
      ]
    },
    {
      "cell_type": "markdown",
      "source": [
        "## Conclusion\n",
        "\n",
        "With tons of data being created every day, keeping it safe is more important than ever. Encryption acts like a shield, turning regular information into a jumbled mess that only authorized people can understand. This report covered different types of encryption, like the simple and fast ones that use the same key (AES and DES) and the more secure ones with separate keys for locking and unlocking (RSA and ECC). We also looked at hashing, which basically creates a unique fingerprint for your data, so you can tell if someone has tampered with it.\n",
        "\n",
        "By understanding these tools, we can choose the best way to protect our information, whether it's a quick lock or a high-security vault. As technology keeps changing, so will encryption methods, always working to keep our valuable data safe in this ever-growing digital world."
      ],
      "metadata": {
        "id": "HeOMIj-hVd9I"
      }
    }
  ]
}